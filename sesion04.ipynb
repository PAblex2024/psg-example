{
 "cells": [
  {
   "cell_type": "code",
   "execution_count": 4,
   "metadata": {},
   "outputs": [
    {
     "name": "stdout",
     "output_type": "stream",
     "text": [
      "                i                  \n",
      "               iii                 \n",
      "              iiiii                \n",
      "             iiiiiii               \n",
      "            iiiiiiiii              \n",
      "           iiiiiiiiiii             \n",
      "                i                  \n",
      "                i                  \n"
     ]
    }
   ],
   "source": [
    "# arbolito\n",
    "print(\"                i                  \")\n",
    "print(\"               iii                 \")\n",
    "print(\"              iiiii                \")\n",
    "print(\"             iiiiiii               \")\n",
    "print(\"            iiiiiiiii              \")\n",
    "print(\"           iiiiiiiiiii             \")\n",
    "print(\"                i                  \")\n",
    "print(\"                i                  \")"
   ]
  },
  {
   "cell_type": "markdown",
   "metadata": {},
   "source": [
    "# Sesion 04\n",
    "- Mi primer notebook\n",
    "- Imprimir arbol\n",
    "- Crear markdown\n",
    "- Subir a mi repositorio de github\n",
    "- Dibujar un emoji 😊 win + ."
   ]
  }
 ],
 "metadata": {
  "kernelspec": {
   "display_name": "Python 3",
   "language": "python",
   "name": "python3"
  },
  "language_info": {
   "codemirror_mode": {
    "name": "ipython",
    "version": 3
   },
   "file_extension": ".py",
   "mimetype": "text/x-python",
   "name": "python",
   "nbconvert_exporter": "python",
   "pygments_lexer": "ipython3",
   "version": "3.12.3"
  }
 },
 "nbformat": 4,
 "nbformat_minor": 2
}
