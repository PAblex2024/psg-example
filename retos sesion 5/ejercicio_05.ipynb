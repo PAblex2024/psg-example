{
 "cells": [
  {
   "cell_type": "code",
   "execution_count": 1,
   "metadata": {},
   "outputs": [
    {
     "name": "stdout",
     "output_type": "stream",
     "text": [
      "<class 'int'>\n",
      "10\n",
      "<class 'int'>\n"
     ]
    }
   ],
   "source": [
    "# Ejemplo de valor\n",
    "print(type(1))\n",
    "print(10)\n",
    "print(type(10))"
   ]
  },
  {
   "cell_type": "code",
   "execution_count": 2,
   "metadata": {},
   "outputs": [
    {
     "name": "stdout",
     "output_type": "stream",
     "text": [
      "100\n",
      "<class 'int'>\n"
     ]
    }
   ],
   "source": [
    "# variables\n",
    "variable=100\n",
    "print(variable)\n",
    "print(type(variable))"
   ]
  },
  {
   "cell_type": "code",
   "execution_count": 3,
   "metadata": {},
   "outputs": [
    {
     "name": "stdout",
     "output_type": "stream",
     "text": [
      "20\n",
      "<class 'int'>\n"
     ]
    }
   ],
   "source": [
    "# variable 20 es un entero\n",
    "variable_2=int(20)\n",
    "print(variable_2)\n",
    "print(type(variable_2))"
   ]
  },
  {
   "cell_type": "code",
   "execution_count": 4,
   "metadata": {},
   "outputs": [
    {
     "name": "stdout",
     "output_type": "stream",
     "text": [
      "base decimal\n",
      "10\n"
     ]
    }
   ],
   "source": [
    "# valor 10 en base decimal\n",
    "print(\"base decimal\")\n",
    "print(10)"
   ]
  },
  {
   "cell_type": "code",
   "execution_count": 5,
   "metadata": {},
   "outputs": [
    {
     "name": "stdout",
     "output_type": "stream",
     "text": [
      "base binaria\n",
      "10\n"
     ]
    }
   ],
   "source": [
    "# valor 10 en binario\n",
    "print(\"base binaria\")\n",
    "print(0b1010)"
   ]
  },
  {
   "cell_type": "code",
   "execution_count": 6,
   "metadata": {},
   "outputs": [
    {
     "name": "stdout",
     "output_type": "stream",
     "text": [
      "Base octal\n",
      "10\n"
     ]
    }
   ],
   "source": [
    "# valor 10 en octal\n",
    "print(\"Base octal\")\n",
    "print(0o12)"
   ]
  },
  {
   "cell_type": "code",
   "execution_count": 7,
   "metadata": {},
   "outputs": [
    {
     "name": "stdout",
     "output_type": "stream",
     "text": [
      "base hexadecimal\n",
      "10\n"
     ]
    }
   ],
   "source": [
    "# valor 10 en hexadecimal\n",
    "print(\"base hexadecimal\")\n",
    "print(0xa)"
   ]
  },
  {
   "cell_type": "code",
   "execution_count": 8,
   "metadata": {},
   "outputs": [
    {
     "name": "stdout",
     "output_type": "stream",
     "text": [
      "12345678912345678912345678912345678912345678912345678912345556\n",
      "<class 'int'>\n"
     ]
    }
   ],
   "source": [
    "# entero con 60 digitos\n",
    "variable_3=12345678912345678912345678912345678912345678912345678912345556\n",
    "print(variable_3)\n",
    "print(type(variable_3))"
   ]
  },
  {
   "cell_type": "code",
   "execution_count": 9,
   "metadata": {},
   "outputs": [
    {
     "name": "stdout",
     "output_type": "stream",
     "text": [
      "0.5\n",
      "<class 'float'>\n"
     ]
    }
   ],
   "source": [
    "# valor 0.5 flotante\n",
    "print(0.5)\n",
    "print(type(0.5))"
   ]
  },
  {
   "cell_type": "code",
   "execution_count": 10,
   "metadata": {},
   "outputs": [
    {
     "name": "stdout",
     "output_type": "stream",
     "text": [
      "0.100546\n",
      "<class 'float'>\n"
     ]
    }
   ],
   "source": [
    "# variable 0.100546 flotante\n",
    "variable_4=0.100546\n",
    "print(variable_4)\n",
    "print(type(variable_4))"
   ]
  },
  {
   "cell_type": "code",
   "execution_count": 11,
   "metadata": {},
   "outputs": [
    {
     "name": "stdout",
     "output_type": "stream",
     "text": [
      "1.0\n",
      "<class 'float'>\n"
     ]
    }
   ],
   "source": [
    "# variable 1 flotante\n",
    "variable_7=float(1)\n",
    "print(variable_7)\n",
    "print(type(variable_7))"
   ]
  },
  {
   "cell_type": "code",
   "execution_count": 12,
   "metadata": {},
   "outputs": [
    {
     "name": "stdout",
     "output_type": "stream",
     "text": [
      "0.999999999999999\n",
      "<class 'float'>\n"
     ]
    }
   ],
   "source": [
    "# precicion de 17 decimales\n",
    "variable_5=0.999999999999999\n",
    "print(variable_5)\n",
    "print(type(variable_5))"
   ]
  },
  {
   "cell_type": "code",
   "execution_count": 13,
   "metadata": {},
   "outputs": [
    {
     "name": "stdout",
     "output_type": "stream",
     "text": [
      "0.002\n",
      "<class 'float'>\n"
     ]
    }
   ],
   "source": [
    "# valor 2.0e-3\n",
    "variable_6=2.0e-3\n",
    "print(variable_6)\n",
    "print(type(variable_6))"
   ]
  },
  {
   "cell_type": "code",
   "execution_count": 14,
   "metadata": {},
   "outputs": [],
   "source": [
    "# operadores aritmeticos\n",
    "a=10\n",
    "b=3"
   ]
  },
  {
   "cell_type": "code",
   "execution_count": 15,
   "metadata": {},
   "outputs": [
    {
     "name": "stdout",
     "output_type": "stream",
     "text": [
      "SUMA\n",
      "13\n"
     ]
    }
   ],
   "source": [
    "# suma\n",
    "print(\"SUMA\")\n",
    "print(a+b)"
   ]
  },
  {
   "cell_type": "code",
   "execution_count": 16,
   "metadata": {},
   "outputs": [
    {
     "name": "stdout",
     "output_type": "stream",
     "text": [
      "resta\n",
      "7\n"
     ]
    }
   ],
   "source": [
    "# resta\n",
    "print(\"resta\")\n",
    "print(a-b)"
   ]
  },
  {
   "cell_type": "code",
   "execution_count": 17,
   "metadata": {},
   "outputs": [
    {
     "name": "stdout",
     "output_type": "stream",
     "text": [
      "multiplicacion\n",
      "30\n"
     ]
    }
   ],
   "source": [
    "# multiplicacion\n",
    "print(\"multiplicacion\")\n",
    "print(a*b)"
   ]
  },
  {
   "cell_type": "code",
   "execution_count": 18,
   "metadata": {},
   "outputs": [
    {
     "name": "stdout",
     "output_type": "stream",
     "text": [
      "division\n",
      "3.3333333333333335\n"
     ]
    }
   ],
   "source": [
    "# division\n",
    "print(\"division\")\n",
    "print(a/b)"
   ]
  },
  {
   "cell_type": "code",
   "execution_count": 19,
   "metadata": {},
   "outputs": [
    {
     "name": "stdout",
     "output_type": "stream",
     "text": [
      "potencia\n",
      "1000\n"
     ]
    }
   ],
   "source": [
    "# potenciacion\n",
    "print(\"potencia\")\n",
    "print(a**b)"
   ]
  },
  {
   "cell_type": "code",
   "execution_count": 20,
   "metadata": {},
   "outputs": [
    {
     "name": "stdout",
     "output_type": "stream",
     "text": [
      "modulo o residuo\n",
      "1\n"
     ]
    }
   ],
   "source": [
    "# modulo o residuo\n",
    "print(\"modulo o residuo\")\n",
    "print(a%b)"
   ]
  },
  {
   "cell_type": "code",
   "execution_count": 21,
   "metadata": {},
   "outputs": [
    {
     "name": "stdout",
     "output_type": "stream",
     "text": [
      "division entera\n",
      "3\n"
     ]
    }
   ],
   "source": [
    "# division entera\n",
    "print(\"division entera\")\n",
    "print(a//b)"
   ]
  },
  {
   "cell_type": "code",
   "execution_count": 22,
   "metadata": {},
   "outputs": [
    {
     "name": "stdout",
     "output_type": "stream",
     "text": [
      "6.0\n"
     ]
    }
   ],
   "source": [
    "# UN CONTADOR TIENE 300 MIN Y SE LE SUMAN 3600 SEG CUANTAS HORAS EN TOTAL SON\n",
    "min=300\n",
    "seg=3600\n",
    "hor=(min/60)+((seg/60)/60)\n",
    "print(hor)"
   ]
  },
  {
   "cell_type": "code",
   "execution_count": 23,
   "metadata": {},
   "outputs": [
    {
     "name": "stdout",
     "output_type": "stream",
     "text": [
      "False\n",
      "False\n",
      "True\n",
      "True\n",
      "True\n",
      "False\n"
     ]
    }
   ],
   "source": [
    "# operadores de comparacion\n",
    "comparar=10\n",
    "print(comparar<10)\n",
    "print(comparar>10)\n",
    "print(comparar==10)\n",
    "print(comparar<=10)\n",
    "print(comparar>=10)\n",
    "print(comparar!=10)"
   ]
  },
  {
   "cell_type": "code",
   "execution_count": 28,
   "metadata": {},
   "outputs": [
    {
     "name": "stdout",
     "output_type": "stream",
     "text": [
      "False\n",
      "False\n",
      "True\n",
      "True\n",
      "True\n",
      "False\n",
      "False\n",
      "True\n",
      "3.0\n",
      "False\n"
     ]
    },
    {
     "name": "stderr",
     "output_type": "stream",
     "text": [
      "<>:10: SyntaxWarning: \"is\" with 'float' literal. Did you mean \"==\"?\n",
      "<>:10: SyntaxWarning: \"is\" with 'float' literal. Did you mean \"==\"?\n",
      "C:\\Users\\Erick\\AppData\\Local\\Temp\\ipykernel_6284\\3332434298.py:10: SyntaxWarning: \"is\" with 'float' literal. Did you mean \"==\"?\n",
      "  print(2.0 is 2)\n"
     ]
    }
   ],
   "source": [
    "# comparar enteros con flotantes\n",
    "entero=10\n",
    "flotante=10.0\n",
    "print(entero<flotante)\n",
    "print(entero>flotante)\n",
    "print(entero==flotante)\n",
    "print(entero<=flotante)\n",
    "print(entero>=flotante)\n",
    "print(entero!=flotante)\n",
    "print(2.0 is 2)\n",
    "print(2.0==2)\n",
    "numero1=6\n",
    "numero2=2\n",
    "resultado=numero1/numero2\n",
    "print(resultado)\n",
    "print ((resultado%2)==2)"
   ]
  }
 ],
 "metadata": {
  "kernelspec": {
   "display_name": "Python 3",
   "language": "python",
   "name": "python3"
  },
  "language_info": {
   "codemirror_mode": {
    "name": "ipython",
    "version": 3
   },
   "file_extension": ".py",
   "mimetype": "text/x-python",
   "name": "python",
   "nbconvert_exporter": "python",
   "pygments_lexer": "ipython3",
   "version": "3.12.3"
  }
 },
 "nbformat": 4,
 "nbformat_minor": 2
}
