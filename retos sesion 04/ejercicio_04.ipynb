{
 "cells": [
  {
   "cell_type": "markdown",
   "metadata": {},
   "source": [
    "*Batalla naval*\n",
    "- _batalla entre dos personas cada una con su tablero y piezas ubicadas_"
   ]
  },
  {
   "cell_type": "markdown",
   "metadata": {},
   "source": [
    "REGLAS:\n",
    "Para jugar a la batalla naval se necesita papel cuadriculado, lápiz y estrategia. Se dibuja un cuadrado con diez casilleros y en la parte horizontal se le ponen letras y en la vertical números. En la cuadricula se distribuyen 10 barcos sin mostrar dónde están. Una vez que cada jugador tenga lista su flota, empieza a dar coordenadas para intentar hundir la flota contraria. Si dice un casillero que está vacío el contrario deberá decir \"agua\", si acierta escuchará \"hundido\". Juega uno por vez, el que quede con los barcos a flote resultará ganador. "
   ]
  },
  {
   "cell_type": "code",
   "execution_count": 1,
   "metadata": {},
   "outputs": [
    {
     "name": "stdout",
     "output_type": "stream",
     "text": [
      "o.1.2.3.4.5.6.7.8.9.10.o\n",
      "A                      o\n",
      "B                      o\n",
      "C                      o\n",
      "D                      o\n",
      "E                      o\n",
      "F                      o\n",
      "G                      o\n",
      "H                      o\n",
      "I                      o\n",
      "J                      o\n",
      "ooooooooooooooooooooooOo\n"
     ]
    }
   ],
   "source": [
    "# diseño del tablero\n",
    "print(\"o.1.2.3.4.5.6.7.8.9.10.o\")\n",
    "print(\"A                      o\")\n",
    "print(\"B                      o\")\n",
    "print(\"C                      o\")\n",
    "print(\"D                      o\")\n",
    "print(\"E                      o\")\n",
    "print(\"F                      o\")\n",
    "print(\"G                      o\")\n",
    "print(\"H                      o\")\n",
    "print(\"I                      o\")\n",
    "print(\"J                      o\")\n",
    "print(\"ooooooooooooooooooooooOo\")"
   ]
  },
  {
   "cell_type": "markdown",
   "metadata": {},
   "source": [
    "*DESCRIPCION DE LAS PIEZAS*\n",
    "- 1 acorazado es de 4 casillas\n",
    "- 1 crucero es de 3 casillas\n",
    "- 1 destructor es de 2 casillas\n",
    "- 1 submarino es de 1 casilla"
   ]
  },
  {
   "cell_type": "code",
   "execution_count": 2,
   "metadata": {},
   "outputs": [
    {
     "name": "stdout",
     "output_type": "stream",
     "text": [
      "el acorazado\n",
      "O.O.O.O\n",
      "el crucero\n",
      "O.O.O\n",
      "el desctructor\n",
      "O.O\n",
      "el sub marino\n",
      "O\n"
     ]
    }
   ],
   "source": [
    "# diseño de las piezas\n",
    "print(\"el acorazado\")\n",
    "print(\"O.O.O.O\")\n",
    "print(\"el crucero\")\n",
    "print(\"O.O.O\")\n",
    "print(\"el desctructor\")\n",
    "print(\"O.O\")\n",
    "print(\"el sub marino\")\n",
    "print(\"O\")\n"
   ]
  }
 ],
 "metadata": {
  "kernelspec": {
   "display_name": "Python 3",
   "language": "python",
   "name": "python3"
  },
  "language_info": {
   "codemirror_mode": {
    "name": "ipython",
    "version": 3
   },
   "file_extension": ".py",
   "mimetype": "text/x-python",
   "name": "python",
   "nbconvert_exporter": "python",
   "pygments_lexer": "ipython3",
   "version": "3.12.3"
  }
 },
 "nbformat": 4,
 "nbformat_minor": 2
}
